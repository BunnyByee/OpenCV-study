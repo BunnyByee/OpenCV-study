{
 "cells": [
  {
   "cell_type": "code",
   "execution_count": 1,
   "metadata": {},
   "outputs": [],
   "source": [
    "import cv2\n",
    "\n",
    "wendy = \"images/wendy.jpg\"\n",
    "family = \"images/family.png\""
   ]
  },
  {
   "cell_type": "code",
   "execution_count": 2,
   "metadata": {},
   "outputs": [],
   "source": [
    "face_cascade = cv2.CascadeClassifier(\"cascade/haarcascade_frontalface_default.xml\")\n",
    "eye_cascade = cv2.CascadeClassifier(\"cascade/haarcascade_eye.xml\")\n",
    "\n",
    "img = cv2.imread(family)\n",
    "gray = cv2.cvtColor(img, cv2.COLOR_BGR2GRAY)\n",
    "faces = face_cascade.detectMultiScale(\n",
    "    gray, scaleFactor=1.1, minNeighbors=10, minSize=(20,20)\n",
    ")\n",
    "\n",
    "eyes = eye_cascade.detectMultiScale(\n",
    "    gray, scaleFactor=1.1, minNeighbors=3, maxSize=(30,30)\n",
    ")\n",
    "\n",
    "if len(faces) :\n",
    "    for face in faces :\n",
    "        x, y, width, height = face\n",
    "        cv2.rectangle(img, (x,y), (x+width, y+height), (0,255,0), 4)\n",
    "\n",
    "\n",
    "if len(eyes) :\n",
    "    for eye in eyes :\n",
    "        x, y, width, height = eye\n",
    "        cv2.rectangle(img, (x,y), (x+width, y+height), (255,0,255), 2)\n",
    "\n",
    "cv2.imshow('img', img)\n",
    "cv2.waitKey(0)\n",
    "cv2.destroyAllWindows()"
   ]
  },
  {
   "cell_type": "markdown",
   "metadata": {},
   "source": [
    "### 실습"
   ]
  },
  {
   "cell_type": "code",
   "execution_count": 8,
   "metadata": {},
   "outputs": [],
   "source": [
    "import cv2\n",
    "\n",
    "face_cascade = cv2.CascadeClassifier(\"cascade/haarcascade_frontalface_default.xml\")\n",
    "\n",
    "videop = \"videos/video3.mp4\"\n",
    "\n",
    "cap = cv2.VideoCapture(videop)\n",
    "fps = cap.get(cv2.CAP_PROP_FPS)\n",
    "\n",
    "while cap.isOpened() :\n",
    "    ret, frame = cap.read()\n",
    "            \n",
    "    if not ret:\n",
    "        break\n",
    "    \n",
    "    copied = frame.copy()\n",
    "    gray = cv2.cvtColor(copied, cv2.COLOR_BGR2GRAY)\n",
    "\n",
    "    faces = face_cascade.detectMultiScale(\n",
    "        gray, scaleFactor=1.1, minNeighbors=7, minSize=(200,200)\n",
    "    )\n",
    "\n",
    "    if len(faces) :\n",
    "        for x, y, width, height in faces :\n",
    "            cv2.rectangle(copied, (x,y), (x+width, y+height), (0,255,0), 4)\n",
    "\n",
    "    cv2.imshow('video', copied)\n",
    "\n",
    "    if cv2.waitKey(int(1000/fps)) == ord('q'):\n",
    "        break\n",
    "\n",
    "cap.release()\n",
    "cv2.destroyAllWindows()"
   ]
  },
  {
   "cell_type": "markdown",
   "metadata": {},
   "source": [
    "### 실습2"
   ]
  },
  {
   "cell_type": "code",
   "execution_count": 30,
   "metadata": {},
   "outputs": [],
   "source": [
    "import cv2\n",
    "\n",
    "face_cascade = cv2.CascadeClassifier(\"cascade/haarcascade_frontalface_default.xml\")\n",
    "eye_cascade = cv2.CascadeClassifier(\"cascade/haarcascade_eye.xml\")\n",
    "\n",
    "cap = cv2.VideoCapture(0)\n",
    "\n",
    "if not cap.isOpened() :\n",
    "    exit()\n",
    "\n",
    "while True :\n",
    "    ret, frame = cap.read()\n",
    "            \n",
    "    if not ret:\n",
    "        break\n",
    "    \n",
    "    copied = frame.copy()\n",
    "    gray = cv2.cvtColor(copied, cv2.COLOR_BGR2GRAY)\n",
    "\n",
    "    faces, weights = face_cascade.detectMultiScale2(\n",
    "        gray, scaleFactor=1.1, minNeighbors=7, minSize=(200,200)\n",
    "    )\n",
    "\n",
    "    eyes = eye_cascade.detectMultiScale(\n",
    "        gray, scaleFactor=1.1, minNeighbors=7, maxSize=(100,100)\n",
    "    )\n",
    "\n",
    "    if len(faces) :\n",
    "        for x, y, width, height in faces :\n",
    "            cv2.rectangle(copied, (x,y), (x+width, y+height), (0,255,0), 2)\n",
    "            cv2.putText(copied, f\"face {weights}\", (x,y), cv2.FONT_HERSHEY_PLAIN, 1, (255,255,255), 2)\n",
    "\n",
    "    if len(eyes) :\n",
    "        for x, y, width, height in eyes :\n",
    "            cv2.rectangle(copied, (x,y), (x+width, y+height), (0,0,255), 2)\n",
    "            cv2.putText(copied, \"eye\", (x,y), cv2.FONT_HERSHEY_PLAIN, 1, (255,255,255), 2)\n",
    "\n",
    "    cv2.imshow('cam', copied)\n",
    "\n",
    "    if cv2.waitKey(int(1000/fps)) == ord('q'):\n",
    "        break\n",
    "\n",
    "cap.release()\n",
    "cv2.destroyAllWindows()"
   ]
  },
  {
   "cell_type": "markdown",
   "metadata": {},
   "source": [
    "### 실습 3"
   ]
  },
  {
   "cell_type": "code",
   "execution_count": 12,
   "metadata": {},
   "outputs": [],
   "source": [
    "import cv2\n",
    "\n",
    "# 원하는 사람 이미지에서 눈을 찾고 : 그레이 스케일 > cascade\n",
    "eye_cascade = cv2.CascadeClassifier(\"cascade/haarcascade_eye.xml\")\n",
    "\n",
    "img = cv2.imread('images/do.jpg')\n",
    "left_eye = cv2.imread('images/left_eye.jpg')\n",
    "right_eye = cv2.imread('images/right_eye.jpg')\n",
    "\n",
    "gray = cv2.cvtColor(img, cv2.COLOR_BGRA2GRAY)\n",
    "\n",
    "eyes = eye_cascade.detectMultiScale(\n",
    "    gray, scaleFactor=1.1, minNeighbors=15, maxSize=(50,50)\n",
    ")\n",
    "\n",
    "if len(eyes) :\n",
    "        for i, (x, y, width, height) in enumerate(eyes) :\n",
    "            # cv2.rectangle(copied, (x,y), (x+width, y+height), (0,0,255), 2)\n",
    "            # 영역에 이미지를 덮기 : 검출된 눈 크기에 맞춰 이미지 사이즈 조절 \n",
    "            l_eye = cv2.resize(left_eye, (width, height))\n",
    "            r_eye = cv2.resize(right_eye, (width, height))\n",
    "\n",
    "            # 왼쪽 오른쪽 구분하여 좌표에 이미지 추가\n",
    "            if i == 0 :\n",
    "                img[y: y + height, x:x + width] = l_eye\n",
    "            else :\n",
    "                img[y: y + height, x:x + width] = r_eye\n",
    "\n",
    "cv2.imshow('eyes', img)\n",
    "\n",
    "cv2.waitKey(0)\n",
    "cv2.destroyAllWindows()"
   ]
  }
 ],
 "metadata": {
  "kernelspec": {
   "display_name": "base",
   "language": "python",
   "name": "python3"
  },
  "language_info": {
   "codemirror_mode": {
    "name": "ipython",
    "version": 3
   },
   "file_extension": ".py",
   "mimetype": "text/x-python",
   "name": "python",
   "nbconvert_exporter": "python",
   "pygments_lexer": "ipython3",
   "version": "3.12.7"
  }
 },
 "nbformat": 4,
 "nbformat_minor": 2
}
