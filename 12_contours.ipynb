{
 "cells": [
  {
   "cell_type": "markdown",
   "metadata": {},
   "source": [
    "## 12. 윤곽선 검출\n",
    "- 경계선을 연결한 선\n",
    "- 흑백 이미지 -> 이진화 -> 윤곽선 찾기(findContours) -> 윤곽선 그리기(drawContours)"
   ]
  },
  {
   "cell_type": "code",
   "execution_count": 2,
   "metadata": {},
   "outputs": [],
   "source": [
    "import cv2\n",
    "\n",
    "dog_path = 'images/dog2.jpg'"
   ]
  },
  {
   "cell_type": "code",
   "execution_count": null,
   "metadata": {},
   "outputs": [],
   "source": [
    "img = cv2.imread(dog_path)\n",
    "copied = img.copy()\n",
    "\n",
    "# 그레이 스케일로 변환\n",
    "gray = cv2.cvtColor(copied, cv2.COLOR_BGR2GRAY)\n",
    "\n",
    "# 이진화\n",
    "ret, binary = cv2.threshold(gray, -1, 255, cv2.THRESH_BINARY | cv2.THRESH_OTSU)\n",
    "\n",
    "# 윤곽선 찾기\n",
    "contours, hierachy = cv2.findContours(binary, cv2.RETR_LIST, cv2.CHAIN_APPROX_NONE)\n",
    "\n",
    "# 윤곽선 그리기\n",
    "cv2.drawContours(copied, contours, -1, (0,255,0), 2)\n",
    "\n",
    "cv2.imshow('img', img)\n",
    "cv2.imshow('copied', copied)\n",
    "\n",
    "cv2.waitKey(0)\n",
    "cv2.destroyAllWindows()"
   ]
  },
  {
   "cell_type": "code",
   "execution_count": 13,
   "metadata": {},
   "outputs": [],
   "source": [
    "img = cv2.imread('images/dog2.jpg')\n",
    "copied = img.copy()\n",
    "copied_2 = img.copy()\n",
    "\n",
    "gray = cv2.cvtColor(copied, cv2.COLOR_BGR2GRAY)\n",
    "\n",
    "ret, binary = cv2.threshold(gray, -1, 255, cv2.THRESH_BINARY | cv2.THRESH_OTSU)\n",
    "\n",
    "contours, hierachy = cv2.findContours(binary, cv2.RETR_LIST, cv2.CHAIN_APPROX_NONE)\n",
    "contours2, hierachy2 = cv2.findContours(binary, cv2.RETR_EXTERNAL, cv2.CHAIN_APPROX_NONE)\n",
    "\n",
    "cv2.drawContours(copied, contours, -1, (255,255,0), 2)\n",
    "cv2.drawContours(copied_2, contours2, -1, (255,255,0), 2)\n",
    "\n",
    "cv2.imshow('img', img)\n",
    "cv2.imshow('List', copied)\n",
    "cv2.imshow('External', copied_2)\n",
    "\n",
    "cv2.waitKey(0)\n",
    "cv2.destroyAllWindows()"
   ]
  },
  {
   "cell_type": "markdown",
   "metadata": {},
   "source": [
    "### 12-2. BoundingRect\n",
    "- 윤곽선을 둘러싼 사각형 그리기"
   ]
  },
  {
   "cell_type": "code",
   "execution_count": 15,
   "metadata": {},
   "outputs": [],
   "source": [
    "img = cv2.imread(dog_path)\n",
    "copied = img.copy()\n",
    "\n",
    "gray = cv2.cvtColor(copied, cv2.COLOR_BGR2GRAY)\n",
    "ret, binary = cv2.threshold(gray, -1, 255, cv2.THRESH_BINARY | cv2.THRESH_OTSU)\n",
    "\n",
    "contours, hierachy = cv2.findContours(binary, cv2.RETR_EXTERNAL, cv2.CHAIN_APPROX_NONE)\n",
    "\n",
    "for contour in contours :\n",
    "    x, y, width, height = cv2.boundingRect(contour)\n",
    "    cv2.rectangle(copied, (x,y), (x+width, y+height), (255,0,0), 2)\n",
    "\n",
    "cv2.imshow('copied', copied)\n",
    "\n",
    "cv2.waitKey(0)\n",
    "cv2.destroyAllWindows()"
   ]
  },
  {
   "cell_type": "markdown",
   "metadata": {},
   "source": [
    "### 실습1"
   ]
  },
  {
   "cell_type": "code",
   "execution_count": null,
   "metadata": {},
   "outputs": [],
   "source": [
    "import cv2\n",
    "\n",
    "img = cv2.imread('images/vehicles.png')\n",
    "copied = img.copy()\n",
    "\n",
    "name = \"contour\"\n",
    "cv2.namedWindow(name)\n",
    "\n",
    "# 윤곽선을 찾고 : 그레이스스케일 -> 이진화 -> findContours\n",
    "gray = cv2.cvtColor(copied, cv2.COLOR_BGR2GRAY)\n",
    "ret, binary = cv2.threshold(gray, -1, 255, cv2.THRESH_BINARY | cv2.THRESH_OTSU)\n",
    "\n",
    "contours, hierachy = cv2.findContours(binary, cv2.RETR_EXTERNAL, cv2.CHAIN_APPROX_NONE)\n",
    "\n",
    "# 윤곡선의 인덱스를 선택해서 : 트랙바 이용 -> while\n",
    "cv2.createTrackbar('index', name, 0, 49, lambda x : x)\n",
    "\n",
    "while True :\n",
    "    copied = img.copy()\n",
    "    idx = cv2.getTrackbarPos('index', name)\n",
    "\n",
    "    # 해당 인덱스의 countour의 bounding rect을 추출하고 -> cv2.boundingRect\n",
    "    k = contours[idx]\n",
    "    x, y, width, height = cv2.boundingRect(k)\n",
    "    \n",
    "    # contours[i] -> rect\n",
    "    # 화면에 사각형을 그린다 -> cv2.rectangle\n",
    "    cv2.rectangle(copied, (x,y), (x+width, y+height), (255,255,0), 2)\n",
    "    cv2.imshow(name, copied)\n",
    "\n",
    "    if cv2.waitKey(1) == ord('q') :\n",
    "        break\n",
    "\n",
    "cv2.destroyAllWindows()"
   ]
  },
  {
   "cell_type": "markdown",
   "metadata": {},
   "source": [
    "### 실습 정답"
   ]
  },
  {
   "cell_type": "code",
   "execution_count": 2,
   "metadata": {},
   "outputs": [
    {
     "ename": "error",
     "evalue": "OpenCV(4.10.0) D:\\a\\opencv-python\\opencv-python\\opencv\\modules\\highgui\\src\\window_w32.cpp:2561: error: (-27:Null pointer) NULL window: 'index' in function 'cvGetTrackbarPos'\n",
     "output_type": "error",
     "traceback": [
      "\u001b[1;31m---------------------------------------------------------------------------\u001b[0m",
      "\u001b[1;31merror\u001b[0m                                     Traceback (most recent call last)",
      "Cell \u001b[1;32mIn[2], line 16\u001b[0m\n\u001b[0;32m     14\u001b[0m \u001b[38;5;28;01mwhile\u001b[39;00m \u001b[38;5;28;01mTrue\u001b[39;00m :\n\u001b[0;32m     15\u001b[0m     target \u001b[38;5;241m=\u001b[39m img\u001b[38;5;241m.\u001b[39mcopy()\n\u001b[1;32m---> 16\u001b[0m     index \u001b[38;5;241m=\u001b[39m \u001b[43mcv2\u001b[49m\u001b[38;5;241;43m.\u001b[39;49m\u001b[43mgetTrackbarPos\u001b[49m\u001b[43m(\u001b[49m\u001b[38;5;124;43m'\u001b[39;49m\u001b[38;5;124;43mIndex\u001b[39;49m\u001b[38;5;124;43m'\u001b[39;49m\u001b[43m,\u001b[49m\u001b[43m \u001b[49m\u001b[43mname\u001b[49m\u001b[43m)\u001b[49m\n\u001b[0;32m     17\u001b[0m     \u001b[38;5;66;03m# 해당 인덱스의 countour의 bounding rect을 추출하고 -> cv2.boundingRect\u001b[39;00m\n\u001b[0;32m     18\u001b[0m     x, y, width, height \u001b[38;5;241m=\u001b[39m cv2\u001b[38;5;241m.\u001b[39mboundingRect(contours[index])\n",
      "\u001b[1;31merror\u001b[0m: OpenCV(4.10.0) D:\\a\\opencv-python\\opencv-python\\opencv\\modules\\highgui\\src\\window_w32.cpp:2561: error: (-27:Null pointer) NULL window: 'index' in function 'cvGetTrackbarPos'\n"
     ]
    }
   ],
   "source": [
    "img = cv2.imread('images/vehicles.png')\n",
    "copied = img.copy()\n",
    "name = 'index'\n",
    "cv2.namedWindow(name)\n",
    "\n",
    "# 윤곽선을 찾고 : 그레이스스케일 -> 이진화 -> findContours\n",
    "gray = cv2.cvtColor(copied, cv2.COLOR_BGR2GRAY)\n",
    "ret, binary = cv2.threshold(gray, -1, 255, cv2.THRESH_BINARY | cv2.THRESH_OTSU)\n",
    "contours, hierachy = cv2.findContours(binary, cv2.RETR_EXTERNAL, cv2.CHAIN_APPROX_SIMPLE)\n",
    "\n",
    "# 윤곡선의 인덱스를 선택해서 : 트랙바 이용 -> while\n",
    "cv2.createTrackbar('Index', name, 0, len(contours)-1, lambda x:x)\n",
    "\n",
    "while True :\n",
    "    target = img.copy()\n",
    "    index = cv2.getTrackbarPos('Index', name)\n",
    "    # 해당 인덱스의 countour의 bounding rect을 추출하고 -> cv2.boundingRect\n",
    "    x, y, width, height = cv2.boundingRect(contours[index])\n",
    "\n",
    "    # contours[i] -> rect\n",
    "    # 화면에 사각형을 그린다 -> cv2.rectangle\n",
    "    cv2.rectangle(target, (x,y), (x+width, y+height), (0,255,0), 2)\n",
    "    cv2.imshow(name, target)\n",
    "\n",
    "    if cv2.waitKey(1)==ord('q'):\n",
    "        break\n",
    "    \n",
    "cv2.destroyAllWindows()"
   ]
  },
  {
   "cell_type": "markdown",
   "metadata": {},
   "source": [
    "원하는 크기의 사각형으로 나타내기"
   ]
  },
  {
   "cell_type": "code",
   "execution_count": 9,
   "metadata": {},
   "outputs": [],
   "source": [
    "img = cv2.imread('images/vehicles.png')\n",
    "copied = img.copy()\n",
    "name = 'index'\n",
    "cv2.namedWindow(name)\n",
    "\n",
    "# 윤곽선을 찾고 : 그레이스스케일 -> 이진화 -> findContours\n",
    "gray = cv2.cvtColor(copied, cv2.COLOR_BGR2GRAY)\n",
    "ret, binary = cv2.threshold(gray, -1, 255, cv2.THRESH_BINARY | cv2.THRESH_OTSU)\n",
    "contours, hierachy = cv2.findContours(binary, cv2.RETR_EXTERNAL, cv2.CHAIN_APPROX_SIMPLE)\n",
    "\n",
    "# 윤곽선의 면적이 특정 크기 이상인 윤곽선의 새로운 리스트에 저장\n",
    "MIN_AREA = 1000\n",
    "filter = []\n",
    "for contour in contours :\n",
    "    if cv2.contourArea(contour) > MIN_AREA:\n",
    "        filter.append(contour)\n",
    "\n",
    "cv2.createTrackbar('Index', name, 0, len(filter)-1, lambda x:x)\n",
    "\n",
    "while True :\n",
    "    target = img.copy()\n",
    "    index = cv2.getTrackbarPos('Index', name)\n",
    "    # 해당 인덱스의 countour의 bounding rect을 추출하고 -> cv2.boundingRect\n",
    "    x, y, width, height = cv2.boundingRect(filter[index])\n",
    "\n",
    "    # contours[i] -> rect\n",
    "    # 화면에 사각형을 그린다 -> cv2.rectangle\n",
    "    cv2.rectangle(target, (x,y), (x+width, y+height), (0,255,0), 2)\n",
    "    cv2.imshow(name, target)\n",
    "\n",
    "    if cv2.waitKey(1)==ord('q'):\n",
    "        break\n",
    "    \n",
    "cv2.destroyAllWindows()"
   ]
  },
  {
   "cell_type": "markdown",
   "metadata": {},
   "source": [
    "### 실습 2"
   ]
  },
  {
   "cell_type": "code",
   "execution_count": 28,
   "metadata": {},
   "outputs": [],
   "source": [
    "import cv2\n",
    "\n",
    "img = cv2.imread('images/playing_cards.png')\n",
    "copied = img.copy()\n",
    "\n",
    "# 윤곽선 찾기 : 그레이 스케일 -> 이진화 -> find\n",
    "gray = cv2.cvtColor(copied, cv2.COLOR_BGR2GRAY)\n",
    "ret, binary = cv2.threshold(gray, -1, 255, cv2.THRESH_BINARY | cv2.THRESH_OTSU)\n",
    "contours, hierachy = cv2.findContours(binary, cv2.RETR_EXTERNAL, cv2.CHAIN_APPROX_NONE)\n",
    "\n",
    "# 사각형으로 구현하기 : boundingRect\n",
    "# 윤곽선 크기가 제각각이라 특정 크기 이상만 나타나게 필터\n",
    "filter_contour = []\n",
    "for contour in contours :\n",
    "    if cv2.contourArea(contour) > 300 :\n",
    "        filter_contour.append(contour)\n",
    "\n",
    "# enumerate 사용\n",
    "for i, contour in enumerate(filter_contour) :\n",
    "    x, y, width, height = cv2.boundingRect(contour)\n",
    "    cv2.rectangle(copied, (x,y), (x+width, y+height), (255,255,0), 2)\n",
    "    # 사진을 잘라서..? : 원근변환 -> width, height, src, dst , mat, result\n",
    "    # 이건 아님 X 넘 어렵게 생각 X 쉬운방법으로~\n",
    "    # 이미지 슬라이스 + 별도의 창으로 나타내기\n",
    "    card = img[y: y+ height, x: x+width]\n",
    "    cv2.imshow(f'card{i}', card)\n",
    "\n",
    "cv2.imshow('img', img)\n",
    "\n",
    "cv2.waitKey(0)\n",
    "cv2.destroyAllWindows()"
   ]
  },
  {
   "cell_type": "markdown",
   "metadata": {},
   "source": [
    "### 실습2 정답"
   ]
  },
  {
   "cell_type": "code",
   "execution_count": 29,
   "metadata": {},
   "outputs": [],
   "source": [
    "import cv2\n",
    "\n",
    "img = cv2.imread('images/playing_cards.png')\n",
    "copied = img.copy()\n",
    "\n",
    "gray = cv2.cvtColor(copied, cv2.COLOR_BGR2GRAY)\n",
    "ret, binary = cv2.threshold(gray, -1, 255, cv2.THRESH_BINARY | cv2.THRESH_OTSU)\n",
    "contours, _ = cv2.findContours(binary, cv2.RETR_EXTERNAL, cv2.CHAIN_APPROX_NONE)\n",
    "\n",
    "for i, contour in enumerate(contours) :\n",
    "    if cv2.contourArea(contour) > 200 :\n",
    "        x, y, width, height = cv2.boundingRect(contour)\n",
    "        cv2.rectangle(copied, (x,y), (x+width, y+height), (255,255,0), 2)\n",
    "        card = img[y: y+ height, x: x+width]\n",
    "        cv2.imshow(f'card{i}', card)\n",
    "\n",
    "cv2.imshow('img', img)\n",
    "\n",
    "cv2.waitKey(0)\n",
    "cv2.destroyAllWindows()"
   ]
  }
 ],
 "metadata": {
  "kernelspec": {
   "display_name": "test1",
   "language": "python",
   "name": "python3"
  },
  "language_info": {
   "codemirror_mode": {
    "name": "ipython",
    "version": 3
   },
   "file_extension": ".py",
   "mimetype": "text/x-python",
   "name": "python",
   "nbconvert_exporter": "python",
   "pygments_lexer": "ipython3",
   "version": "3.13.1"
  }
 },
 "nbformat": 4,
 "nbformat_minor": 2
}
