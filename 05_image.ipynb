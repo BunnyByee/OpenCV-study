{
 "cells": [
  {
   "cell_type": "markdown",
   "metadata": {},
   "source": [
    "## 05. 이미지 조정"
   ]
  },
  {
   "cell_type": "code",
   "execution_count": 2,
   "metadata": {},
   "outputs": [],
   "source": [
    "import cv2\n",
    "import numpy as numpy\n",
    "\n",
    "DOG_PATH = \"images/dog.jpg\""
   ]
  },
  {
   "cell_type": "markdown",
   "metadata": {},
   "source": [
    "### 5-1 이미지 불러오기?"
   ]
  },
  {
   "cell_type": "markdown",
   "metadata": {},
   "source": [
    "### 5-2. 리사이즈"
   ]
  },
  {
   "cell_type": "code",
   "execution_count": 3,
   "metadata": {},
   "outputs": [
    {
     "data": {
      "text/plain": [
       "<function destroyAllWindows>"
      ]
     },
     "execution_count": 3,
     "metadata": {},
     "output_type": "execute_result"
    }
   ],
   "source": [
    "img = cv2.imread(DOG_PATH)\n",
    "img.shape\n",
    "\n",
    "# 고정 크기를 입력해서 조정\n",
    "# dst = cv2.resize(img, (1280,850))\n",
    "\n",
    "# 비율로 조정하는 방법\n",
    "dst = cv2.resize(img, None, fx = 0.5, fy =0.5)\n",
    "cubic = cv2.resize(img, None, fx = 0.5, fy =0.5, interpolation=cv2.INTER_CUBIC)\n",
    "\n",
    "cv2.imshow('resize', dst)\n",
    "cv2.imshow('cubic', cubic)\n",
    "cv2.waitKey(0)\n",
    "cv2.destroyAllWindows"
   ]
  },
  {
   "cell_type": "markdown",
   "metadata": {},
   "source": [
    "### 실습 2"
   ]
  },
  {
   "cell_type": "code",
   "execution_count": 4,
   "metadata": {},
   "outputs": [],
   "source": [
    "video_path = \"videos/cat.mp4\"\n",
    "\n",
    "cap = cv2.VideoCapture(video_path)\n",
    "fps = cap.get(cv2.CAP_PROP_FPS)\n",
    "\n",
    "while cap.isOpened():\n",
    "    ret, frame = cap.read() # ret : 성공여부, frame = 불러온 이미지\n",
    "\n",
    "    if not ret :\n",
    "        break\n",
    "    \n",
    "    dst = cv2.resize(frame, None, fx=1.5, fy=1.5)\n",
    "    cubic = cv2.resize(frame, None, fx=1.5, fy=1.5, interpolation=cv2.INTER_CUBIC)\n",
    "    cv2.imshow('cat', dst)\n",
    "    cv2.imshow('cat2', cubic)\n",
    "    \n",
    "    if cv2.waitKey(int(1000/fps)) == ord(\"q\") :\n",
    "        break\n",
    "cap.release\n",
    "cv2.destroyAllWindows()"
   ]
  },
  {
   "cell_type": "code",
   "execution_count": 5,
   "metadata": {},
   "outputs": [],
   "source": [
    "img = cv2.imread(DOG_PATH)\n",
    "\n",
    "sizeup = cv2.pyrUp(img)\n",
    "sizedown = cv2.pyrDown(img)\n",
    "\n",
    "cv2.imshow('Pyr Up', sizeup)\n",
    "cv2.imshow('original', img)\n",
    "cv2.imshow('Pyr Down', sizedown)\n",
    "\n",
    "cv2.waitKey(0)\n",
    "cv2.destroyAllWindows()"
   ]
  },
  {
   "cell_type": "markdown",
   "metadata": {},
   "source": [
    "### 5-3. 이미지 자르기"
   ]
  },
  {
   "cell_type": "code",
   "execution_count": 6,
   "metadata": {},
   "outputs": [
    {
     "data": {
      "text/plain": [
       "<function destroyAllWindows>"
      ]
     },
     "execution_count": 6,
     "metadata": {},
     "output_type": "execute_result"
    }
   ],
   "source": [
    "img = cv2.imread(DOG_PATH)\n",
    "\n",
    "cropped = img[100:400, 150:450]\n",
    "img[100:400, 150:450] = cropped\n",
    "\n",
    "cv2.imshow('original', img)\n",
    "\n",
    "cv2.waitKey(0)\n",
    "cv2.destroyAllWindows"
   ]
  },
  {
   "cell_type": "markdown",
   "metadata": {},
   "source": [
    "### 5-4. 이미지 대칭\n",
    ". filpcode > 0 : 좌우 반전 (y축 반전)\n",
    ". filpcode == 0 : 상하 반전 (x축 반전)\n",
    ". filpcode < 0 : 상하좌우 반전"
   ]
  },
  {
   "cell_type": "code",
   "execution_count": 7,
   "metadata": {},
   "outputs": [
    {
     "data": {
      "text/plain": [
       "<function destroyAllWindows>"
      ]
     },
     "execution_count": 7,
     "metadata": {},
     "output_type": "execute_result"
    }
   ],
   "source": [
    "img = cv2.imread(DOG_PATH)\n",
    "\n",
    "dst_1 = cv2.flip(img, 1)\n",
    "dst_2 = cv2.flip(img, 0)\n",
    "dst_3 = cv2.flip(img, -1)\n",
    "\n",
    "cv2.imshow('original', img)\n",
    "cv2.imshow('dst_1', dst_1)\n",
    "cv2.imshow('dst_2', dst_2)\n",
    "cv2.imshow('dst_3', dst_3)\n",
    "\n",
    "cv2.waitKey(0)\n",
    "cv2.destroyAllWindows"
   ]
  },
  {
   "cell_type": "markdown",
   "metadata": {},
   "source": [
    "### 실습3"
   ]
  },
  {
   "cell_type": "code",
   "execution_count": 8,
   "metadata": {},
   "outputs": [],
   "source": [
    "pic_path = \"images/minji.jpg\"\n",
    "\n",
    "img = cv2.imread(pic_path) # (900, 720, 3)\n",
    "\n",
    "small = cv2.resize(img, None, fx= 0.5, fy=0.5, interpolation=cv2.INTER_CUBIC)\n",
    "# small = cv2.pyrDown(img)\n",
    "small = cv2.flip(small, 1)\n",
    "\n",
    "iheight, iwidth, ichannel = img.shape\n",
    "sheight, swidth, schannel = small.shape\n",
    "img[iheight-sheight:iheight, iwidth-swidth:iwidth] = small\n",
    "\n",
    "# cropped = small[:]\n",
    "# img[450:900, 360:720] = cropped\n",
    "\n",
    "cv2.imshow('orginal', img)\n",
    "\n",
    "cv2.waitKey(0)\n",
    "cv2.destroyAllWindows()"
   ]
  },
  {
   "cell_type": "code",
   "execution_count": 9,
   "metadata": {},
   "outputs": [],
   "source": [
    "img = cv2.imread('images/minji.jpg')\n",
    "\n",
    "blue, green, red = cv2.split(img)\n",
    "\n",
    "cv2.imshow('blue',blue)\n",
    "cv2.imshow('green',green)\n",
    "cv2.imshow('red',red)\n",
    "\n",
    "cv2.waitKey(0)\n",
    "cv2.destroyAllWindows()"
   ]
  },
  {
   "cell_type": "markdown",
   "metadata": {},
   "source": [
    "### 5-4. 이미지 색상 변경"
   ]
  },
  {
   "cell_type": "code",
   "execution_count": 10,
   "metadata": {},
   "outputs": [],
   "source": [
    "img = cv2.imread(pic_path)\n",
    "gray = cv2.cvtColor(img, cv2.COLOR_BGR2GRAY)\n",
    "rgb = cv2.cvtColor(img, cv2.COLOR_BGR2RGB)\n",
    "\n",
    "cv2.imshow('gray',gray)\n",
    "cv2.imshow('rgb',rgb)\n",
    "\n",
    "cv2.waitKey(0)\n",
    "cv2.destroyAllWindows()"
   ]
  },
  {
   "cell_type": "markdown",
   "metadata": {},
   "source": [
    "### 실습 4"
   ]
  },
  {
   "cell_type": "code",
   "execution_count": 11,
   "metadata": {},
   "outputs": [
    {
     "data": {
      "text/plain": [
       "array([[ 94,  94,  91, ..., 104, 105, 101],\n",
       "       [ 92,  93,  92, ..., 104, 106, 101],\n",
       "       [ 95,  93,  92, ..., 104, 106, 102],\n",
       "       ...,\n",
       "       [ 40,  35,  32, ...,  25,  22,  23],\n",
       "       [ 39,  36,  35, ...,  24,  25,  29],\n",
       "       [ 34,  32,  35, ...,  26,  25,  26]], shape=(900, 720), dtype=uint8)"
      ]
     },
     "execution_count": 11,
     "metadata": {},
     "output_type": "execute_result"
    }
   ],
   "source": [
    "gray"
   ]
  },
  {
   "cell_type": "code",
   "execution_count": 12,
   "metadata": {},
   "outputs": [
    {
     "data": {
      "text/plain": [
       "array([[161, 161, 164, ..., 151, 150, 154],\n",
       "       [163, 162, 163, ..., 151, 149, 154],\n",
       "       [160, 162, 163, ..., 151, 149, 153],\n",
       "       ...,\n",
       "       [215, 220, 223, ..., 230, 233, 232],\n",
       "       [216, 219, 220, ..., 231, 230, 226],\n",
       "       [221, 223, 220, ..., 229, 230, 229]], shape=(900, 720), dtype=uint8)"
      ]
     },
     "execution_count": 12,
     "metadata": {},
     "output_type": "execute_result"
    }
   ],
   "source": [
    "gray2 = 255 - gray\n",
    "gray2"
   ]
  },
  {
   "cell_type": "code",
   "execution_count": 13,
   "metadata": {},
   "outputs": [],
   "source": [
    "cv2.imshow('gray',gray)\n",
    "cv2.imshow('gray2',gray2)\n",
    "\n",
    "cv2.waitKey(0)\n",
    "cv2.destroyAllWindows()"
   ]
  },
  {
   "cell_type": "markdown",
   "metadata": {},
   "source": [
    "### 5-5. 이미지 흐리기 (GaussianBlur)"
   ]
  },
  {
   "cell_type": "code",
   "execution_count": 15,
   "metadata": {},
   "outputs": [],
   "source": [
    "img = cv2.imread(pic_path)\n",
    "\n",
    "# 표준편차를 사용하는 방식식\n",
    "k3 = cv2.GaussianBlur(img, (0,0), 1)\n",
    "k5 = cv2.GaussianBlur(img, (0,0), 2)\n",
    "k7 = cv2.GaussianBlur(img, (0,0), 3)\n",
    "\n",
    "# 커널을 사용하는 방식\n",
    "# (3,3) (5,5), (7,7)을 주로 사용\n",
    "k3 = cv2.GaussianBlur(img, (3,3), 0)\n",
    "k5 = cv2.GaussianBlur(img, (5,5), 0)\n",
    "k7 = cv2.GaussianBlur(img, (7,7), 0)\n",
    "\n",
    "cv2.imshow('k3', k3)\n",
    "cv2.imshow('k5', k5)\n",
    "cv2.imshow('k7', k7)\n",
    "\n",
    "cv2.waitKey(0)\n",
    "cv2.destroyAllWindows()"
   ]
  },
  {
   "cell_type": "code",
   "execution_count": 17,
   "metadata": {},
   "outputs": [],
   "source": [
    "img = cv2.imread(pic_path)\n",
    "\n",
    "# 표준편차를 사용하는 방식식\n",
    "s1 = cv2.GaussianBlur(img, (0,0), 1)\n",
    "s2 = cv2.GaussianBlur(img, (0,0), 2)\n",
    "s3 = cv2.GaussianBlur(img, (0,0), 3)\n",
    "\n",
    "cv2.imshow('s1', s1)\n",
    "cv2.imshow('s2', s2)\n",
    "cv2.imshow('s3', s3)\n",
    "\n",
    "cv2.waitKey(0)\n",
    "cv2.destroyAllWindows()"
   ]
  },
  {
   "cell_type": "markdown",
   "metadata": {},
   "source": [
    "### 5-6. 이미지 회전\n",
    "    . rotateCode\n",
    "        cv2.ROTATE_90_CLOCWISE : 시계방향 90도 회전\n",
    "        cv2.ROTATE_180 : 180도 회전\n",
    "        cv2.ROTATE_90_COUNTERCLOCWISE : 반시계방향 90도 회전"
   ]
  },
  {
   "cell_type": "code",
   "execution_count": 18,
   "metadata": {},
   "outputs": [],
   "source": [
    "img = cv2.imread(pic_path)\n",
    "\n",
    "dst_90 = cv2.rotate(img, cv2.ROTATE_90_CLOCKWISE)\n",
    "dst_180 = cv2.rotate(img, cv2.ROTATE_180)\n",
    "dst_90_counter = cv2.rotate(img, cv2.ROTATE_90_COUNTERCLOCKWISE)\n",
    "\n",
    "cv2.imshow('90', dst_90)\n",
    "cv2.imshow('180', dst_180)\n",
    "cv2.imshow('90_counter', dst_90_counter)\n",
    "\n",
    "cv2.waitKey(0)\n",
    "cv2.destroyAllWindows()"
   ]
  },
  {
   "cell_type": "code",
   "execution_count": 20,
   "metadata": {},
   "outputs": [],
   "source": [
    "# affine 변환 사용\n",
    "\n",
    "img = cv2.imread(pic_path)\n",
    "center = (img.shape[1]/2, img.shape[0]/2)\n",
    "affine = cv2.getRotationMatrix2D(center, -45, 1)\n",
    "\n",
    "dst = cv2.warpAffine(img, affine, (img.shape[1], img.shape[0]))\n",
    "\n",
    "cv2.imshow('original', img)\n",
    "cv2.imshow('Rotate', dst)\n",
    "\n",
    "cv2.waitKey(0)\n",
    "cv2.destroyAllWindows()"
   ]
  }
 ],
 "metadata": {
  "kernelspec": {
   "display_name": "test1",
   "language": "python",
   "name": "python3"
  },
  "language_info": {
   "codemirror_mode": {
    "name": "ipython",
    "version": 3
   },
   "file_extension": ".py",
   "mimetype": "text/x-python",
   "name": "python",
   "nbconvert_exporter": "python",
   "pygments_lexer": "ipython3",
   "version": "3.13.1"
  }
 },
 "nbformat": 4,
 "nbformat_minor": 2
}
